{
 "cells": [
  {
   "cell_type": "code",
   "execution_count": 1,
   "id": "74238140-4c09-44da-aac4-8bb796a800b8",
   "metadata": {},
   "outputs": [
    {
     "data": {
      "text/html": [
       "<div>\n",
       "<style scoped>\n",
       "    .dataframe tbody tr th:only-of-type {\n",
       "        vertical-align: middle;\n",
       "    }\n",
       "\n",
       "    .dataframe tbody tr th {\n",
       "        vertical-align: top;\n",
       "    }\n",
       "\n",
       "    .dataframe thead th {\n",
       "        text-align: right;\n",
       "    }\n",
       "</style>\n",
       "<table border=\"1\" class=\"dataframe\">\n",
       "  <thead>\n",
       "    <tr style=\"text-align: right;\">\n",
       "      <th></th>\n",
       "      <th>Movie name</th>\n",
       "      <th>Description</th>\n",
       "      <th>Genre</th>\n",
       "    </tr>\n",
       "  </thead>\n",
       "  <tbody>\n",
       "    <tr>\n",
       "      <th>0</th>\n",
       "      <td>The Shawshank Redemption</td>\n",
       "      <td>Imprisoned in the 1940s for the double murder ...</td>\n",
       "      <td>Drama, Crime</td>\n",
       "    </tr>\n",
       "    <tr>\n",
       "      <th>1</th>\n",
       "      <td>The Godfather</td>\n",
       "      <td>Spanning the years 1945 to 1955, a chronicle o...</td>\n",
       "      <td>Drama, Crime</td>\n",
       "    </tr>\n",
       "    <tr>\n",
       "      <th>2</th>\n",
       "      <td>The Godfather Part II</td>\n",
       "      <td>In the continuing saga of the Corleone crime f...</td>\n",
       "      <td>Drama, Crime</td>\n",
       "    </tr>\n",
       "    <tr>\n",
       "      <th>3</th>\n",
       "      <td>Schindler's List</td>\n",
       "      <td>The true story of how businessman Oskar Schind...</td>\n",
       "      <td>Drama, History, War</td>\n",
       "    </tr>\n",
       "    <tr>\n",
       "      <th>4</th>\n",
       "      <td>12 Angry Men</td>\n",
       "      <td>The defense and the prosecution have rested an...</td>\n",
       "      <td>Drama</td>\n",
       "    </tr>\n",
       "  </tbody>\n",
       "</table>\n",
       "</div>"
      ],
      "text/plain": [
       "                 Movie name  \\\n",
       "0  The Shawshank Redemption   \n",
       "1             The Godfather   \n",
       "2     The Godfather Part II   \n",
       "3          Schindler's List   \n",
       "4              12 Angry Men   \n",
       "\n",
       "                                         Description                Genre  \n",
       "0  Imprisoned in the 1940s for the double murder ...         Drama, Crime  \n",
       "1  Spanning the years 1945 to 1955, a chronicle o...         Drama, Crime  \n",
       "2  In the continuing saga of the Corleone crime f...         Drama, Crime  \n",
       "3  The true story of how businessman Oskar Schind...  Drama, History, War  \n",
       "4  The defense and the prosecution have rested an...                Drama  "
      ]
     },
     "execution_count": 1,
     "metadata": {},
     "output_type": "execute_result"
    }
   ],
   "source": [
    "import pandas as pd\n",
    "df = pd.read_csv('movies_dataset.csv')\n",
    "df.head()"
   ]
  },
  {
   "cell_type": "markdown",
   "id": "e1865d94-47ff-4b8e-a115-ae5e5fcff9f6",
   "metadata": {},
   "source": [
    "---\n",
    "## 1. Make The Columns into Lower Case"
   ]
  },
  {
   "cell_type": "code",
   "execution_count": 2,
   "id": "26a81719-79e6-468b-ba40-f3fed1775ea8",
   "metadata": {},
   "outputs": [],
   "source": [
    "df['Description'] = df['Description'].str.lower()"
   ]
  },
  {
   "cell_type": "code",
   "execution_count": 3,
   "id": "bda145ca-34ca-40b0-bd93-6185405e8790",
   "metadata": {},
   "outputs": [
    {
     "data": {
      "text/html": [
       "<div>\n",
       "<style scoped>\n",
       "    .dataframe tbody tr th:only-of-type {\n",
       "        vertical-align: middle;\n",
       "    }\n",
       "\n",
       "    .dataframe tbody tr th {\n",
       "        vertical-align: top;\n",
       "    }\n",
       "\n",
       "    .dataframe thead th {\n",
       "        text-align: right;\n",
       "    }\n",
       "</style>\n",
       "<table border=\"1\" class=\"dataframe\">\n",
       "  <thead>\n",
       "    <tr style=\"text-align: right;\">\n",
       "      <th></th>\n",
       "      <th>Movie name</th>\n",
       "      <th>Description</th>\n",
       "      <th>Genre</th>\n",
       "    </tr>\n",
       "  </thead>\n",
       "  <tbody>\n",
       "    <tr>\n",
       "      <th>0</th>\n",
       "      <td>The Shawshank Redemption</td>\n",
       "      <td>imprisoned in the 1940s for the double murder ...</td>\n",
       "      <td>Drama, Crime</td>\n",
       "    </tr>\n",
       "    <tr>\n",
       "      <th>1</th>\n",
       "      <td>The Godfather</td>\n",
       "      <td>spanning the years 1945 to 1955, a chronicle o...</td>\n",
       "      <td>Drama, Crime</td>\n",
       "    </tr>\n",
       "    <tr>\n",
       "      <th>2</th>\n",
       "      <td>The Godfather Part II</td>\n",
       "      <td>in the continuing saga of the corleone crime f...</td>\n",
       "      <td>Drama, Crime</td>\n",
       "    </tr>\n",
       "    <tr>\n",
       "      <th>3</th>\n",
       "      <td>Schindler's List</td>\n",
       "      <td>the true story of how businessman oskar schind...</td>\n",
       "      <td>Drama, History, War</td>\n",
       "    </tr>\n",
       "    <tr>\n",
       "      <th>4</th>\n",
       "      <td>12 Angry Men</td>\n",
       "      <td>the defense and the prosecution have rested an...</td>\n",
       "      <td>Drama</td>\n",
       "    </tr>\n",
       "  </tbody>\n",
       "</table>\n",
       "</div>"
      ],
      "text/plain": [
       "                 Movie name  \\\n",
       "0  The Shawshank Redemption   \n",
       "1             The Godfather   \n",
       "2     The Godfather Part II   \n",
       "3          Schindler's List   \n",
       "4              12 Angry Men   \n",
       "\n",
       "                                         Description                Genre  \n",
       "0  imprisoned in the 1940s for the double murder ...         Drama, Crime  \n",
       "1  spanning the years 1945 to 1955, a chronicle o...         Drama, Crime  \n",
       "2  in the continuing saga of the corleone crime f...         Drama, Crime  \n",
       "3  the true story of how businessman oskar schind...  Drama, History, War  \n",
       "4  the defense and the prosecution have rested an...                Drama  "
      ]
     },
     "execution_count": 3,
     "metadata": {},
     "output_type": "execute_result"
    }
   ],
   "source": [
    "df.head()"
   ]
  },
  {
   "cell_type": "markdown",
   "id": "03dabf85-8a8e-4c99-94b6-57ffd04bad60",
   "metadata": {},
   "source": [
    "---\n",
    "## 2. Remove HTML Tags and URLs"
   ]
  },
  {
   "cell_type": "code",
   "execution_count": 4,
   "id": "31041aff-d26b-45cb-ad11-bdae7071ccf2",
   "metadata": {},
   "outputs": [],
   "source": [
    "import re\n",
    "\n",
    "# Precompile regex patterns\n",
    "TAG_RE = re.compile(r'</?[A-Za-z][A-Za-z0-9-]*\\b[^>]*>')\n",
    "URL_RE = re.compile(r'https?://\\S+|www\\.\\S+')\n",
    "\n",
    "def clean_text(text):\n",
    "    if not isinstance(text, str):\n",
    "        return text   # skip if not string\n",
    "    \n",
    "    # Remove HTML tags\n",
    "    no_html = TAG_RE.sub('', text)\n",
    "    \n",
    "    # Remove URLs\n",
    "    no_url = URL_RE.sub('', no_html)\n",
    "    \n",
    "    return no_url.strip()\n"
   ]
  },
  {
   "cell_type": "code",
   "execution_count": 5,
   "id": "f848a2c0-26bd-453e-ad21-b945e77dc082",
   "metadata": {},
   "outputs": [],
   "source": [
    "df['Description'] = df['Description'].apply(clean_text)"
   ]
  },
  {
   "cell_type": "code",
   "execution_count": 6,
   "id": "f71d1701-68e6-4228-bed2-30c6606d7d9e",
   "metadata": {},
   "outputs": [
    {
     "data": {
      "text/html": [
       "<div>\n",
       "<style scoped>\n",
       "    .dataframe tbody tr th:only-of-type {\n",
       "        vertical-align: middle;\n",
       "    }\n",
       "\n",
       "    .dataframe tbody tr th {\n",
       "        vertical-align: top;\n",
       "    }\n",
       "\n",
       "    .dataframe thead th {\n",
       "        text-align: right;\n",
       "    }\n",
       "</style>\n",
       "<table border=\"1\" class=\"dataframe\">\n",
       "  <thead>\n",
       "    <tr style=\"text-align: right;\">\n",
       "      <th></th>\n",
       "      <th>Movie name</th>\n",
       "      <th>Description</th>\n",
       "      <th>Genre</th>\n",
       "    </tr>\n",
       "  </thead>\n",
       "  <tbody>\n",
       "    <tr>\n",
       "      <th>0</th>\n",
       "      <td>The Shawshank Redemption</td>\n",
       "      <td>imprisoned in the 1940s for the double murder ...</td>\n",
       "      <td>Drama, Crime</td>\n",
       "    </tr>\n",
       "    <tr>\n",
       "      <th>1</th>\n",
       "      <td>The Godfather</td>\n",
       "      <td>spanning the years 1945 to 1955, a chronicle o...</td>\n",
       "      <td>Drama, Crime</td>\n",
       "    </tr>\n",
       "    <tr>\n",
       "      <th>2</th>\n",
       "      <td>The Godfather Part II</td>\n",
       "      <td>in the continuing saga of the corleone crime f...</td>\n",
       "      <td>Drama, Crime</td>\n",
       "    </tr>\n",
       "    <tr>\n",
       "      <th>3</th>\n",
       "      <td>Schindler's List</td>\n",
       "      <td>the true story of how businessman oskar schind...</td>\n",
       "      <td>Drama, History, War</td>\n",
       "    </tr>\n",
       "    <tr>\n",
       "      <th>4</th>\n",
       "      <td>12 Angry Men</td>\n",
       "      <td>the defense and the prosecution have rested an...</td>\n",
       "      <td>Drama</td>\n",
       "    </tr>\n",
       "  </tbody>\n",
       "</table>\n",
       "</div>"
      ],
      "text/plain": [
       "                 Movie name  \\\n",
       "0  The Shawshank Redemption   \n",
       "1             The Godfather   \n",
       "2     The Godfather Part II   \n",
       "3          Schindler's List   \n",
       "4              12 Angry Men   \n",
       "\n",
       "                                         Description                Genre  \n",
       "0  imprisoned in the 1940s for the double murder ...         Drama, Crime  \n",
       "1  spanning the years 1945 to 1955, a chronicle o...         Drama, Crime  \n",
       "2  in the continuing saga of the corleone crime f...         Drama, Crime  \n",
       "3  the true story of how businessman oskar schind...  Drama, History, War  \n",
       "4  the defense and the prosecution have rested an...                Drama  "
      ]
     },
     "execution_count": 6,
     "metadata": {},
     "output_type": "execute_result"
    }
   ],
   "source": [
    "df.head()"
   ]
  },
  {
   "cell_type": "code",
   "execution_count": 7,
   "id": "a911fc9c-0579-43b7-b067-688d88a59cf4",
   "metadata": {},
   "outputs": [],
   "source": [
    "# Remove rows where Description is NaN\n",
    "\n",
    "df = df.dropna(subset=['Description'])"
   ]
  },
  {
   "cell_type": "code",
   "execution_count": 8,
   "id": "fc1a2b73-1524-442b-9a0f-5696c7f3644f",
   "metadata": {},
   "outputs": [],
   "source": [
    "# Remove all rows that contain NaN in any column\n",
    "df = df.dropna()"
   ]
  },
  {
   "cell_type": "code",
   "execution_count": 9,
   "id": "e5e81e80-7f66-489f-aba6-46662a4c74bd",
   "metadata": {},
   "outputs": [
    {
     "data": {
      "text/plain": [
       "Movie name     0\n",
       "Description    0\n",
       "Genre          0\n",
       "dtype: int64"
      ]
     },
     "execution_count": 9,
     "metadata": {},
     "output_type": "execute_result"
    }
   ],
   "source": [
    "df.isnull().sum()"
   ]
  },
  {
   "cell_type": "markdown",
   "id": "f75882c2-434b-4e6a-9202-1b695987d578",
   "metadata": {},
   "source": [
    "---\n",
    "## 3. Remove Punctuations"
   ]
  },
  {
   "cell_type": "code",
   "execution_count": 10,
   "id": "b9804a49-c7f3-4717-a4ad-895266391714",
   "metadata": {},
   "outputs": [
    {
     "data": {
      "text/plain": [
       "'!\"#$%&\\'()*+,-./:;<=>?@[\\\\]^_`{|}~'"
      ]
     },
     "execution_count": 10,
     "metadata": {},
     "output_type": "execute_result"
    }
   ],
   "source": [
    "import string\n",
    "import time\n",
    "\n",
    "string.punctuation"
   ]
  },
  {
   "cell_type": "code",
   "execution_count": 11,
   "id": "edc8cf42-fe91-41c8-a5bb-0643fd073729",
   "metadata": {},
   "outputs": [],
   "source": [
    "exclude = string.punctuation"
   ]
  },
  {
   "cell_type": "code",
   "execution_count": 12,
   "id": "8a7b1db4-b8d6-4ab3-9b08-6031491040d3",
   "metadata": {},
   "outputs": [],
   "source": [
    "def remove_punc1(text):\n",
    "    return text.translate(str.maketrans('', '', exclude))"
   ]
  },
  {
   "cell_type": "code",
   "execution_count": 13,
   "id": "8659ff0e-1759-4c64-9964-13b4195937f2",
   "metadata": {},
   "outputs": [
    {
     "data": {
      "text/html": [
       "<div>\n",
       "<style scoped>\n",
       "    .dataframe tbody tr th:only-of-type {\n",
       "        vertical-align: middle;\n",
       "    }\n",
       "\n",
       "    .dataframe tbody tr th {\n",
       "        vertical-align: top;\n",
       "    }\n",
       "\n",
       "    .dataframe thead th {\n",
       "        text-align: right;\n",
       "    }\n",
       "</style>\n",
       "<table border=\"1\" class=\"dataframe\">\n",
       "  <thead>\n",
       "    <tr style=\"text-align: right;\">\n",
       "      <th></th>\n",
       "      <th>Movie name</th>\n",
       "      <th>Description</th>\n",
       "      <th>Genre</th>\n",
       "    </tr>\n",
       "  </thead>\n",
       "  <tbody>\n",
       "    <tr>\n",
       "      <th>9375</th>\n",
       "      <td>The Watch</td>\n",
       "      <td>four everyday suburban guys come together as a...</td>\n",
       "      <td>Comedy, Action, Science Fiction</td>\n",
       "    </tr>\n",
       "    <tr>\n",
       "      <th>9376</th>\n",
       "      <td>Retreat</td>\n",
       "      <td>kate and martin escape from personal tragedy t...</td>\n",
       "      <td>Horror, Drama, Thriller</td>\n",
       "    </tr>\n",
       "    <tr>\n",
       "      <th>9377</th>\n",
       "      <td>The Sweetest Thing</td>\n",
       "      <td>christina's love life is stuck in neutral. aft...</td>\n",
       "      <td>Romance, Comedy</td>\n",
       "    </tr>\n",
       "    <tr>\n",
       "      <th>9378</th>\n",
       "      <td>The Volcano</td>\n",
       "      <td>the eruption of the icelandic volcano eyjafjal...</td>\n",
       "      <td>Comedy</td>\n",
       "    </tr>\n",
       "    <tr>\n",
       "      <th>9379</th>\n",
       "      <td>Taxi</td>\n",
       "      <td>a mouthy and feisty taxicab driver has hot tip...</td>\n",
       "      <td>Action, Comedy, Thriller, Crime</td>\n",
       "    </tr>\n",
       "  </tbody>\n",
       "</table>\n",
       "</div>"
      ],
      "text/plain": [
       "              Movie name                                        Description  \\\n",
       "9375           The Watch  four everyday suburban guys come together as a...   \n",
       "9376             Retreat  kate and martin escape from personal tragedy t...   \n",
       "9377  The Sweetest Thing  christina's love life is stuck in neutral. aft...   \n",
       "9378         The Volcano  the eruption of the icelandic volcano eyjafjal...   \n",
       "9379                Taxi  a mouthy and feisty taxicab driver has hot tip...   \n",
       "\n",
       "                                Genre  \n",
       "9375  Comedy, Action, Science Fiction  \n",
       "9376          Horror, Drama, Thriller  \n",
       "9377                  Romance, Comedy  \n",
       "9378                           Comedy  \n",
       "9379  Action, Comedy, Thriller, Crime  "
      ]
     },
     "execution_count": 13,
     "metadata": {},
     "output_type": "execute_result"
    }
   ],
   "source": [
    "df.tail(5)"
   ]
  },
  {
   "cell_type": "markdown",
   "id": "042d1e6e-87e0-4ea3-b1ae-d93c95b47df5",
   "metadata": {},
   "source": [
    "---\n",
    "## 4. Spelling Correction"
   ]
  },
  {
   "cell_type": "code",
   "execution_count": 14,
   "id": "c4ee6f19-e6ba-4e61-8ef1-d1d0d5a26b0b",
   "metadata": {},
   "outputs": [],
   "source": [
    "## very slow good for small text\n",
    "\n",
    "#from textblob import TextBlob\n",
    "# df['Description'] = df['Description'].apply(lambda x: str(TextBlob(x).correct()))"
   ]
  },
  {
   "cell_type": "code",
   "execution_count": 15,
   "id": "cc3d06c3-49bf-4f2c-86da-0766f100b5b6",
   "metadata": {},
   "outputs": [],
   "source": [
    "## fast good for large text\n",
    "\n",
    "from autocorrect import Speller\n",
    "spell = Speller(lang='en')\n",
    "\n",
    "df['Description'] = df['Description'].apply(lambda x: spell(x))"
   ]
  },
  {
   "cell_type": "code",
   "execution_count": 16,
   "id": "b52a66c1-f48b-44cd-a293-ea1e091f588e",
   "metadata": {},
   "outputs": [
    {
     "data": {
      "text/html": [
       "<div>\n",
       "<style scoped>\n",
       "    .dataframe tbody tr th:only-of-type {\n",
       "        vertical-align: middle;\n",
       "    }\n",
       "\n",
       "    .dataframe tbody tr th {\n",
       "        vertical-align: top;\n",
       "    }\n",
       "\n",
       "    .dataframe thead th {\n",
       "        text-align: right;\n",
       "    }\n",
       "</style>\n",
       "<table border=\"1\" class=\"dataframe\">\n",
       "  <thead>\n",
       "    <tr style=\"text-align: right;\">\n",
       "      <th></th>\n",
       "      <th>Movie name</th>\n",
       "      <th>Description</th>\n",
       "      <th>Genre</th>\n",
       "    </tr>\n",
       "  </thead>\n",
       "  <tbody>\n",
       "    <tr>\n",
       "      <th>0</th>\n",
       "      <td>The Shawshank Redemption</td>\n",
       "      <td>imprisoned in the 1940s for the double murder ...</td>\n",
       "      <td>Drama, Crime</td>\n",
       "    </tr>\n",
       "    <tr>\n",
       "      <th>1</th>\n",
       "      <td>The Godfather</td>\n",
       "      <td>spanning the years 1945 to 1955, a chronicle o...</td>\n",
       "      <td>Drama, Crime</td>\n",
       "    </tr>\n",
       "    <tr>\n",
       "      <th>2</th>\n",
       "      <td>The Godfather Part II</td>\n",
       "      <td>in the continuing saga of the corleone crime f...</td>\n",
       "      <td>Drama, Crime</td>\n",
       "    </tr>\n",
       "    <tr>\n",
       "      <th>3</th>\n",
       "      <td>Schindler's List</td>\n",
       "      <td>the true story of how businessman oscar chandl...</td>\n",
       "      <td>Drama, History, War</td>\n",
       "    </tr>\n",
       "    <tr>\n",
       "      <th>4</th>\n",
       "      <td>12 Angry Men</td>\n",
       "      <td>the defense and the prosecution have rested an...</td>\n",
       "      <td>Drama</td>\n",
       "    </tr>\n",
       "  </tbody>\n",
       "</table>\n",
       "</div>"
      ],
      "text/plain": [
       "                 Movie name  \\\n",
       "0  The Shawshank Redemption   \n",
       "1             The Godfather   \n",
       "2     The Godfather Part II   \n",
       "3          Schindler's List   \n",
       "4              12 Angry Men   \n",
       "\n",
       "                                         Description                Genre  \n",
       "0  imprisoned in the 1940s for the double murder ...         Drama, Crime  \n",
       "1  spanning the years 1945 to 1955, a chronicle o...         Drama, Crime  \n",
       "2  in the continuing saga of the corleone crime f...         Drama, Crime  \n",
       "3  the true story of how businessman oscar chandl...  Drama, History, War  \n",
       "4  the defense and the prosecution have rested an...                Drama  "
      ]
     },
     "execution_count": 16,
     "metadata": {},
     "output_type": "execute_result"
    }
   ],
   "source": [
    "df.head()"
   ]
  },
  {
   "cell_type": "markdown",
   "id": "607d5414-e18c-4d67-92ad-143cd7bd571d",
   "metadata": {},
   "source": [
    "---\n",
    "## 5. Removing Stop Words"
   ]
  },
  {
   "cell_type": "code",
   "execution_count": 17,
   "id": "77648da9-4983-413a-b857-b444334891db",
   "metadata": {},
   "outputs": [
    {
     "name": "stderr",
     "output_type": "stream",
     "text": [
      "[nltk_data] Downloading package stopwords to\n",
      "[nltk_data]     /Users/atharparvezce/nltk_data...\n",
      "[nltk_data]   Package stopwords is already up-to-date!\n"
     ]
    },
    {
     "data": {
      "text/plain": [
       "True"
      ]
     },
     "execution_count": 17,
     "metadata": {},
     "output_type": "execute_result"
    }
   ],
   "source": [
    "import nltk\n",
    "from nltk.corpus import stopwords\n",
    "\n",
    "# Download stopwords if not already\n",
    "nltk.download('stopwords')"
   ]
  },
  {
   "cell_type": "code",
   "execution_count": 19,
   "id": "8d6bde5f-8cc6-49f6-a588-a8597dbff824",
   "metadata": {},
   "outputs": [
    {
     "name": "stdout",
     "output_type": "stream",
     "text": [
      "['a', 'about', 'above', 'after', 'again', 'against', 'ain', 'all', 'am', 'an', 'and', 'any', 'are', 'aren', \"aren't\", 'as', 'at', 'be', 'because', 'been', 'before', 'being', 'below', 'between', 'both', 'but', 'by', 'can', 'couldn', \"couldn't\", 'd', 'did', 'didn', \"didn't\", 'do', 'does', 'doesn', \"doesn't\", 'doing', 'don', \"don't\", 'down', 'during', 'each', 'few', 'for', 'from', 'further', 'had', 'hadn', \"hadn't\", 'has', 'hasn', \"hasn't\", 'have', 'haven', \"haven't\", 'having', 'he', \"he'd\", \"he'll\", 'her', 'here', 'hers', 'herself', \"he's\", 'him', 'himself', 'his', 'how', 'i', \"i'd\", 'if', \"i'll\", \"i'm\", 'in', 'into', 'is', 'isn', \"isn't\", 'it', \"it'd\", \"it'll\", \"it's\", 'its', 'itself', \"i've\", 'just', 'll', 'm', 'ma', 'me', 'mightn', \"mightn't\", 'more', 'most', 'mustn', \"mustn't\", 'my', 'myself', 'needn', \"needn't\", 'no', 'nor', 'not', 'now', 'o', 'of', 'off', 'on', 'once', 'only', 'or', 'other', 'our', 'ours', 'ourselves', 'out', 'over', 'own', 're', 's', 'same', 'shan', \"shan't\", 'she', \"she'd\", \"she'll\", \"she's\", 'should', 'shouldn', \"shouldn't\", \"should've\", 'so', 'some', 'such', 't', 'than', 'that', \"that'll\", 'the', 'their', 'theirs', 'them', 'themselves', 'then', 'there', 'these', 'they', \"they'd\", \"they'll\", \"they're\", \"they've\", 'this', 'those', 'through', 'to', 'too', 'under', 'until', 'up', 've', 'very', 'was', 'wasn', \"wasn't\", 'we', \"we'd\", \"we'll\", \"we're\", 'were', 'weren', \"weren't\", \"we've\", 'what', 'when', 'where', 'which', 'while', 'who', 'whom', 'why', 'will', 'with', 'won', \"won't\", 'wouldn', \"wouldn't\", 'y', 'you', \"you'd\", \"you'll\", 'your', \"you're\", 'yours', 'yourself', 'yourselves', \"you've\"]\n"
     ]
    }
   ],
   "source": [
    "# Now you can use it\n",
    "print(stopwords.words('english'))"
   ]
  },
  {
   "cell_type": "code",
   "execution_count": 20,
   "id": "a5730434-acbb-423c-a3b8-60e18f84d075",
   "metadata": {},
   "outputs": [],
   "source": [
    "def remove_stopwords(text):\n",
    "    new_text = []\n",
    "\n",
    "    for word in text.split():\n",
    "        if word in stopwords.words('english'):\n",
    "            new_text.append('')\n",
    "        else:\n",
    "            new_text.append(word)\n",
    "    x = new_text[:]\n",
    "    new_text.clear()\n",
    "    return \" \".join(x)"
   ]
  },
  {
   "cell_type": "code",
   "execution_count": 21,
   "id": "d0736b33-17dc-4896-b57d-3256f8404936",
   "metadata": {},
   "outputs": [],
   "source": [
    "df['Description'] = df['Description'].apply(remove_stopwords)"
   ]
  },
  {
   "cell_type": "code",
   "execution_count": 22,
   "id": "7c541256-c412-424b-bfd4-48a94a88c66d",
   "metadata": {},
   "outputs": [
    {
     "data": {
      "text/html": [
       "<div>\n",
       "<style scoped>\n",
       "    .dataframe tbody tr th:only-of-type {\n",
       "        vertical-align: middle;\n",
       "    }\n",
       "\n",
       "    .dataframe tbody tr th {\n",
       "        vertical-align: top;\n",
       "    }\n",
       "\n",
       "    .dataframe thead th {\n",
       "        text-align: right;\n",
       "    }\n",
       "</style>\n",
       "<table border=\"1\" class=\"dataframe\">\n",
       "  <thead>\n",
       "    <tr style=\"text-align: right;\">\n",
       "      <th></th>\n",
       "      <th>Movie name</th>\n",
       "      <th>Description</th>\n",
       "      <th>Genre</th>\n",
       "    </tr>\n",
       "  </thead>\n",
       "  <tbody>\n",
       "    <tr>\n",
       "      <th>0</th>\n",
       "      <td>The Shawshank Redemption</td>\n",
       "      <td>imprisoned   1940s   double murder   wife   lo...</td>\n",
       "      <td>Drama, Crime</td>\n",
       "    </tr>\n",
       "    <tr>\n",
       "      <th>1</th>\n",
       "      <td>The Godfather</td>\n",
       "      <td>spanning  years 1945  1955,  chronicle   ficti...</td>\n",
       "      <td>Drama, Crime</td>\n",
       "    </tr>\n",
       "    <tr>\n",
       "      <th>2</th>\n",
       "      <td>The Godfather Part II</td>\n",
       "      <td>continuing saga   corleone crime family,  yo...</td>\n",
       "      <td>Drama, Crime</td>\n",
       "    </tr>\n",
       "    <tr>\n",
       "      <th>3</th>\n",
       "      <td>Schindler's List</td>\n",
       "      <td>true story   businessman oscar chandler saved...</td>\n",
       "      <td>Drama, History, War</td>\n",
       "    </tr>\n",
       "    <tr>\n",
       "      <th>4</th>\n",
       "      <td>12 Angry Men</td>\n",
       "      <td>defense   prosecution  rested   jury  filing ...</td>\n",
       "      <td>Drama</td>\n",
       "    </tr>\n",
       "  </tbody>\n",
       "</table>\n",
       "</div>"
      ],
      "text/plain": [
       "                 Movie name  \\\n",
       "0  The Shawshank Redemption   \n",
       "1             The Godfather   \n",
       "2     The Godfather Part II   \n",
       "3          Schindler's List   \n",
       "4              12 Angry Men   \n",
       "\n",
       "                                         Description                Genre  \n",
       "0  imprisoned   1940s   double murder   wife   lo...         Drama, Crime  \n",
       "1  spanning  years 1945  1955,  chronicle   ficti...         Drama, Crime  \n",
       "2    continuing saga   corleone crime family,  yo...         Drama, Crime  \n",
       "3   true story   businessman oscar chandler saved...  Drama, History, War  \n",
       "4   defense   prosecution  rested   jury  filing ...                Drama  "
      ]
     },
     "execution_count": 22,
     "metadata": {},
     "output_type": "execute_result"
    }
   ],
   "source": [
    "df.head()"
   ]
  },
  {
   "cell_type": "code",
   "execution_count": 23,
   "id": "ab4ba1de-68c7-4dc2-848c-c6f9d62f7943",
   "metadata": {},
   "outputs": [],
   "source": [
    "# Save the current dataframe into csv file for further preprocessing\n",
    "\n",
    "df.to_csv(\"cleaned_dataset.csv\", index=False)"
   ]
  },
  {
   "cell_type": "code",
   "execution_count": 24,
   "id": "813f3b7c-8c18-4757-95cf-666ff58468a8",
   "metadata": {},
   "outputs": [
    {
     "data": {
      "text/html": [
       "<div>\n",
       "<style scoped>\n",
       "    .dataframe tbody tr th:only-of-type {\n",
       "        vertical-align: middle;\n",
       "    }\n",
       "\n",
       "    .dataframe tbody tr th {\n",
       "        vertical-align: top;\n",
       "    }\n",
       "\n",
       "    .dataframe thead th {\n",
       "        text-align: right;\n",
       "    }\n",
       "</style>\n",
       "<table border=\"1\" class=\"dataframe\">\n",
       "  <thead>\n",
       "    <tr style=\"text-align: right;\">\n",
       "      <th></th>\n",
       "      <th>Movie name</th>\n",
       "      <th>Description</th>\n",
       "      <th>Genre</th>\n",
       "    </tr>\n",
       "  </thead>\n",
       "  <tbody>\n",
       "    <tr>\n",
       "      <th>0</th>\n",
       "      <td>The Shawshank Redemption</td>\n",
       "      <td>imprisoned   1940s   double murder   wife   lo...</td>\n",
       "      <td>Drama, Crime</td>\n",
       "    </tr>\n",
       "    <tr>\n",
       "      <th>1</th>\n",
       "      <td>The Godfather</td>\n",
       "      <td>spanning  years 1945  1955,  chronicle   ficti...</td>\n",
       "      <td>Drama, Crime</td>\n",
       "    </tr>\n",
       "    <tr>\n",
       "      <th>2</th>\n",
       "      <td>The Godfather Part II</td>\n",
       "      <td>continuing saga   corleone crime family,  yo...</td>\n",
       "      <td>Drama, Crime</td>\n",
       "    </tr>\n",
       "    <tr>\n",
       "      <th>3</th>\n",
       "      <td>Schindler's List</td>\n",
       "      <td>true story   businessman oscar chandler saved...</td>\n",
       "      <td>Drama, History, War</td>\n",
       "    </tr>\n",
       "    <tr>\n",
       "      <th>4</th>\n",
       "      <td>12 Angry Men</td>\n",
       "      <td>defense   prosecution  rested   jury  filing ...</td>\n",
       "      <td>Drama</td>\n",
       "    </tr>\n",
       "  </tbody>\n",
       "</table>\n",
       "</div>"
      ],
      "text/plain": [
       "                 Movie name  \\\n",
       "0  The Shawshank Redemption   \n",
       "1             The Godfather   \n",
       "2     The Godfather Part II   \n",
       "3          Schindler's List   \n",
       "4              12 Angry Men   \n",
       "\n",
       "                                         Description                Genre  \n",
       "0  imprisoned   1940s   double murder   wife   lo...         Drama, Crime  \n",
       "1  spanning  years 1945  1955,  chronicle   ficti...         Drama, Crime  \n",
       "2    continuing saga   corleone crime family,  yo...         Drama, Crime  \n",
       "3   true story   businessman oscar chandler saved...  Drama, History, War  \n",
       "4   defense   prosecution  rested   jury  filing ...                Drama  "
      ]
     },
     "execution_count": 24,
     "metadata": {},
     "output_type": "execute_result"
    }
   ],
   "source": [
    "df = pd.read_csv(\"cleaned_dataset.csv\")\n",
    "df.head()"
   ]
  },
  {
   "cell_type": "markdown",
   "id": "05e37492-edd0-4353-ba71-0745ec9923c3",
   "metadata": {},
   "source": [
    "---\n",
    "## 6. Tokenization"
   ]
  },
  {
   "cell_type": "code",
   "execution_count": 25,
   "id": "8a56a7ef-d231-406c-ac78-2a949e9c0197",
   "metadata": {},
   "outputs": [
    {
     "name": "stdout",
     "output_type": "stream",
     "text": [
      "3.7.5\n"
     ]
    }
   ],
   "source": [
    "import spacy\n",
    "print(spacy.__version__)"
   ]
  },
  {
   "cell_type": "code",
   "execution_count": 27,
   "id": "55d89fd3-e18c-4b55-93cc-ecc127f3f7fe",
   "metadata": {},
   "outputs": [],
   "source": [
    "# Load spaCy model\n",
    "nlp = spacy.load(\"en_core_web_sm\")\n",
    "\n",
    "\n",
    "# Apply spaCy tokenization to each row\n",
    "df[\"Tokens\"] = df[\"Description\"].apply(lambda x: [t.text for t in nlp(x)])"
   ]
  },
  {
   "cell_type": "code",
   "execution_count": 28,
   "id": "e7a28a0b-fdbf-4ce4-b57c-b7b3b3c547aa",
   "metadata": {},
   "outputs": [
    {
     "data": {
      "text/html": [
       "<div>\n",
       "<style scoped>\n",
       "    .dataframe tbody tr th:only-of-type {\n",
       "        vertical-align: middle;\n",
       "    }\n",
       "\n",
       "    .dataframe tbody tr th {\n",
       "        vertical-align: top;\n",
       "    }\n",
       "\n",
       "    .dataframe thead th {\n",
       "        text-align: right;\n",
       "    }\n",
       "</style>\n",
       "<table border=\"1\" class=\"dataframe\">\n",
       "  <thead>\n",
       "    <tr style=\"text-align: right;\">\n",
       "      <th></th>\n",
       "      <th>Movie name</th>\n",
       "      <th>Description</th>\n",
       "      <th>Genre</th>\n",
       "      <th>Tokens</th>\n",
       "    </tr>\n",
       "  </thead>\n",
       "  <tbody>\n",
       "    <tr>\n",
       "      <th>0</th>\n",
       "      <td>The Shawshank Redemption</td>\n",
       "      <td>imprisoned   1940s   double murder   wife   lo...</td>\n",
       "      <td>Drama, Crime</td>\n",
       "      <td>[imprisoned,   , 1940s,   , double, murder,   ...</td>\n",
       "    </tr>\n",
       "    <tr>\n",
       "      <th>1</th>\n",
       "      <td>The Godfather</td>\n",
       "      <td>spanning  years 1945  1955,  chronicle   ficti...</td>\n",
       "      <td>Drama, Crime</td>\n",
       "      <td>[spanning,  , years, 1945,  , 1955, ,,  , chro...</td>\n",
       "    </tr>\n",
       "    <tr>\n",
       "      <th>2</th>\n",
       "      <td>The Godfather Part II</td>\n",
       "      <td>continuing saga   corleone crime family,  yo...</td>\n",
       "      <td>Drama, Crime</td>\n",
       "      <td>[  , continuing, saga,   , corleone, crime, fa...</td>\n",
       "    </tr>\n",
       "    <tr>\n",
       "      <th>3</th>\n",
       "      <td>Schindler's List</td>\n",
       "      <td>true story   businessman oscar chandler saved...</td>\n",
       "      <td>Drama, History, War</td>\n",
       "      <td>[ , true, story,   , businessman, oscar, chand...</td>\n",
       "    </tr>\n",
       "    <tr>\n",
       "      <th>4</th>\n",
       "      <td>12 Angry Men</td>\n",
       "      <td>defense   prosecution  rested   jury  filing ...</td>\n",
       "      <td>Drama</td>\n",
       "      <td>[ , defense,   , prosecution,  , rested,   , j...</td>\n",
       "    </tr>\n",
       "  </tbody>\n",
       "</table>\n",
       "</div>"
      ],
      "text/plain": [
       "                 Movie name  \\\n",
       "0  The Shawshank Redemption   \n",
       "1             The Godfather   \n",
       "2     The Godfather Part II   \n",
       "3          Schindler's List   \n",
       "4              12 Angry Men   \n",
       "\n",
       "                                         Description                Genre  \\\n",
       "0  imprisoned   1940s   double murder   wife   lo...         Drama, Crime   \n",
       "1  spanning  years 1945  1955,  chronicle   ficti...         Drama, Crime   \n",
       "2    continuing saga   corleone crime family,  yo...         Drama, Crime   \n",
       "3   true story   businessman oscar chandler saved...  Drama, History, War   \n",
       "4   defense   prosecution  rested   jury  filing ...                Drama   \n",
       "\n",
       "                                              Tokens  \n",
       "0  [imprisoned,   , 1940s,   , double, murder,   ...  \n",
       "1  [spanning,  , years, 1945,  , 1955, ,,  , chro...  \n",
       "2  [  , continuing, saga,   , corleone, crime, fa...  \n",
       "3  [ , true, story,   , businessman, oscar, chand...  \n",
       "4  [ , defense,   , prosecution,  , rested,   , j...  "
      ]
     },
     "execution_count": 28,
     "metadata": {},
     "output_type": "execute_result"
    }
   ],
   "source": [
    "df.head()"
   ]
  },
  {
   "cell_type": "markdown",
   "id": "8df03c81-1182-408c-a537-35bed6fe6000",
   "metadata": {},
   "source": [
    "## 7. Lemmatization"
   ]
  },
  {
   "cell_type": "code",
   "execution_count": 29,
   "id": "7d29f76b-f196-458e-908b-aa11ec6b5b71",
   "metadata": {},
   "outputs": [
    {
     "name": "stderr",
     "output_type": "stream",
     "text": [
      "[nltk_data] Downloading package wordnet to\n",
      "[nltk_data]     /Users/atharparvezce/nltk_data...\n",
      "[nltk_data]   Package wordnet is already up-to-date!\n",
      "[nltk_data] Downloading package omw-1.4 to\n",
      "[nltk_data]     /Users/atharparvezce/nltk_data...\n"
     ]
    }
   ],
   "source": [
    "import nltk\n",
    "from nltk.stem import WordNetLemmatizer\n",
    "\n",
    "# Make sure resources are available\n",
    "nltk.download('wordnet')\n",
    "nltk.download('omw-1.4')\n",
    "\n",
    "# Initialize lemmatizer\n",
    "lemmatizer = WordNetLemmatizer()"
   ]
  },
  {
   "cell_type": "code",
   "execution_count": 32,
   "id": "10e88bf6-c115-4cb3-838e-89662f887195",
   "metadata": {},
   "outputs": [],
   "source": [
    "# Function to lemmatize token list\n",
    "def lemmatize_tokens(tokens):\n",
    "    return [lemmatizer.lemmatize(token, pos=\"v\") for token in tokens if token.isalpha()]  \n",
    "    # keep only words (removes numbers, punctuation)\n",
    "\n",
    "# Apply to your Tokens column\n",
    "df[\"Lemmas\"] = df[\"Tokens\"].apply(lemmatize_tokens)"
   ]
  },
  {
   "cell_type": "code",
   "execution_count": 33,
   "id": "a9811951-6a80-4ba6-bb42-e6a5c9650de3",
   "metadata": {},
   "outputs": [
    {
     "data": {
      "text/html": [
       "<div>\n",
       "<style scoped>\n",
       "    .dataframe tbody tr th:only-of-type {\n",
       "        vertical-align: middle;\n",
       "    }\n",
       "\n",
       "    .dataframe tbody tr th {\n",
       "        vertical-align: top;\n",
       "    }\n",
       "\n",
       "    .dataframe thead th {\n",
       "        text-align: right;\n",
       "    }\n",
       "</style>\n",
       "<table border=\"1\" class=\"dataframe\">\n",
       "  <thead>\n",
       "    <tr style=\"text-align: right;\">\n",
       "      <th></th>\n",
       "      <th>Movie name</th>\n",
       "      <th>Description</th>\n",
       "      <th>Genre</th>\n",
       "      <th>Tokens</th>\n",
       "      <th>Lemmas</th>\n",
       "    </tr>\n",
       "  </thead>\n",
       "  <tbody>\n",
       "    <tr>\n",
       "      <th>0</th>\n",
       "      <td>The Shawshank Redemption</td>\n",
       "      <td>imprisoned   1940s   double murder   wife   lo...</td>\n",
       "      <td>Drama, Crime</td>\n",
       "      <td>[imprisoned,   , 1940s,   , double, murder,   ...</td>\n",
       "      <td>[imprison, double, murder, wife, lover, stand,...</td>\n",
       "    </tr>\n",
       "    <tr>\n",
       "      <th>1</th>\n",
       "      <td>The Godfather</td>\n",
       "      <td>spanning  years 1945  1955,  chronicle   ficti...</td>\n",
       "      <td>Drama, Crime</td>\n",
       "      <td>[spanning,  , years, 1945,  , 1955, ,,  , chro...</td>\n",
       "      <td>[span, years, chronicle, fictional, italian, a...</td>\n",
       "    </tr>\n",
       "    <tr>\n",
       "      <th>2</th>\n",
       "      <td>The Godfather Part II</td>\n",
       "      <td>continuing saga   corleone crime family,  yo...</td>\n",
       "      <td>Drama, Crime</td>\n",
       "      <td>[  , continuing, saga,   , corleone, crime, fa...</td>\n",
       "      <td>[continue, saga, corleone, crime, family, youn...</td>\n",
       "    </tr>\n",
       "    <tr>\n",
       "      <th>3</th>\n",
       "      <td>Schindler's List</td>\n",
       "      <td>true story   businessman oscar chandler saved...</td>\n",
       "      <td>Drama, History, War</td>\n",
       "      <td>[ , true, story,   , businessman, oscar, chand...</td>\n",
       "      <td>[true, story, businessman, oscar, chandler, sa...</td>\n",
       "    </tr>\n",
       "    <tr>\n",
       "      <th>4</th>\n",
       "      <td>12 Angry Men</td>\n",
       "      <td>defense   prosecution  rested   jury  filing ...</td>\n",
       "      <td>Drama</td>\n",
       "      <td>[ , defense,   , prosecution,  , rested,   , j...</td>\n",
       "      <td>[defense, prosecution, rest, jury, file, jury,...</td>\n",
       "    </tr>\n",
       "  </tbody>\n",
       "</table>\n",
       "</div>"
      ],
      "text/plain": [
       "                 Movie name  \\\n",
       "0  The Shawshank Redemption   \n",
       "1             The Godfather   \n",
       "2     The Godfather Part II   \n",
       "3          Schindler's List   \n",
       "4              12 Angry Men   \n",
       "\n",
       "                                         Description                Genre  \\\n",
       "0  imprisoned   1940s   double murder   wife   lo...         Drama, Crime   \n",
       "1  spanning  years 1945  1955,  chronicle   ficti...         Drama, Crime   \n",
       "2    continuing saga   corleone crime family,  yo...         Drama, Crime   \n",
       "3   true story   businessman oscar chandler saved...  Drama, History, War   \n",
       "4   defense   prosecution  rested   jury  filing ...                Drama   \n",
       "\n",
       "                                              Tokens  \\\n",
       "0  [imprisoned,   , 1940s,   , double, murder,   ...   \n",
       "1  [spanning,  , years, 1945,  , 1955, ,,  , chro...   \n",
       "2  [  , continuing, saga,   , corleone, crime, fa...   \n",
       "3  [ , true, story,   , businessman, oscar, chand...   \n",
       "4  [ , defense,   , prosecution,  , rested,   , j...   \n",
       "\n",
       "                                              Lemmas  \n",
       "0  [imprison, double, murder, wife, lover, stand,...  \n",
       "1  [span, years, chronicle, fictional, italian, a...  \n",
       "2  [continue, saga, corleone, crime, family, youn...  \n",
       "3  [true, story, businessman, oscar, chandler, sa...  \n",
       "4  [defense, prosecution, rest, jury, file, jury,...  "
      ]
     },
     "execution_count": 33,
     "metadata": {},
     "output_type": "execute_result"
    }
   ],
   "source": [
    "df.head()"
   ]
  }
 ],
 "metadata": {
  "kernelspec": {
   "display_name": "Python 3 (ipykernel)",
   "language": "python",
   "name": "python3"
  },
  "language_info": {
   "codemirror_mode": {
    "name": "ipython",
    "version": 3
   },
   "file_extension": ".py",
   "mimetype": "text/x-python",
   "name": "python",
   "nbconvert_exporter": "python",
   "pygments_lexer": "ipython3",
   "version": "3.12.7"
  }
 },
 "nbformat": 4,
 "nbformat_minor": 5
}
